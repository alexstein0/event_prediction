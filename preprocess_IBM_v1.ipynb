{
 "cells": [
  {
   "cell_type": "code",
   "execution_count": 2,
   "id": "9504ef6f-a7dc-4c4e-9510-57797c0d7f22",
   "metadata": {
    "ExecuteTime": {
     "end_time": "2023-04-15T16:28:17.101738Z",
     "start_time": "2023-04-15T16:28:15.355085Z"
    }
   },
   "outputs": [],
   "source": [
    "import math\n",
    "import os\n",
    "\n",
    "import numpy as np\n",
    "import pandas as pd\n",
    "from IPython.display import display\n",
    "\n",
    "from data import download, extract, get_repo_root, get_timestamps"
   ]
  },
  {
   "cell_type": "code",
   "execution_count": 3,
   "id": "1d232a4d",
   "metadata": {},
   "outputs": [
    {
     "name": "stdout",
     "output_type": "stream",
     "text": [
      "Checking c:\\Users\\monte\\code\\event_prediction\\data\\transactions.tgz to extract files...\n",
      "Extracted files: ['card_transaction.v1.csv']\n"
     ]
    }
   ],
   "source": [
    "\n",
    "url = \"https://obj.umiacs.umd.edu/eventprediction/transactions.tgz\"\n",
    "data_dir = os.path.join(get_repo_root(), \"data\")\n",
    "tarfile = download(url, data_dir)\n",
    "extracted_files = extract(tarfile)\n",
    "datafile = os.path.join(data_dir, extracted_files[0])\n",
    "datafile_base, datafile_ext = os.path.splitext(datafile)\n",
    "train_path = datafile_base + \"_train\" + datafile_ext\n",
    "test_path = datafile_base + \"_test\" + datafile_ext\n",
    "train_test_thres_year=2018\n",
    "seq_len=10\n",
    "consider_card = False"
   ]
  },
  {
   "cell_type": "code",
   "execution_count": 4,
   "id": "dea4d36a-6785-4364-806f-ced332dedd31",
   "metadata": {
    "ExecuteTime": {
     "end_time": "2023-04-15T16:28:17.101738Z",
     "start_time": "2023-04-15T16:28:17.101738Z"
    },
    "tags": [
     "parameters"
    ]
   },
   "outputs": [],
   "source": [
    "# file_path = './data/card_transaction.v1.csv'\n",
    "# train_path = './data/card_transaction_train.csv'\n",
    "# test_path = './data/card_transaction_test.csv'\n",
    "# train_test_thres_year=2018\n",
    "# seq_len=10\n",
    "# consider_card = False"
   ]
  },
  {
   "cell_type": "markdown",
   "id": "9e42bced-09b7-427b-ad29-187e9ba1b2fe",
   "metadata": {},
   "source": [
    "# Load and preprocess dataset"
   ]
  },
  {
   "cell_type": "code",
   "execution_count": 5,
   "id": "1eaed4f4-b701-4a7c-b535-717185be35a5",
   "metadata": {
    "ExecuteTime": {
     "end_time": "2023-04-15T16:28:34.196602Z",
     "start_time": "2023-04-15T16:28:17.101738Z"
    }
   },
   "outputs": [
    {
     "data": {
      "text/html": [
       "<div>\n",
       "<style scoped>\n",
       "    .dataframe tbody tr th:only-of-type {\n",
       "        vertical-align: middle;\n",
       "    }\n",
       "\n",
       "    .dataframe tbody tr th {\n",
       "        vertical-align: top;\n",
       "    }\n",
       "\n",
       "    .dataframe thead th {\n",
       "        text-align: right;\n",
       "    }\n",
       "</style>\n",
       "<table border=\"1\" class=\"dataframe\">\n",
       "  <thead>\n",
       "    <tr style=\"text-align: right;\">\n",
       "      <th></th>\n",
       "      <th>User</th>\n",
       "      <th>Card</th>\n",
       "      <th>Year</th>\n",
       "      <th>Month</th>\n",
       "      <th>Day</th>\n",
       "      <th>Time</th>\n",
       "      <th>Amount</th>\n",
       "      <th>Use Chip</th>\n",
       "      <th>Merchant Name</th>\n",
       "      <th>Merchant City</th>\n",
       "      <th>Merchant State</th>\n",
       "      <th>Zip</th>\n",
       "      <th>MCC</th>\n",
       "      <th>Errors?</th>\n",
       "      <th>Is Fraud?</th>\n",
       "    </tr>\n",
       "  </thead>\n",
       "  <tbody>\n",
       "    <tr>\n",
       "      <th>0</th>\n",
       "      <td>0</td>\n",
       "      <td>0</td>\n",
       "      <td>2002</td>\n",
       "      <td>9</td>\n",
       "      <td>1</td>\n",
       "      <td>06:21</td>\n",
       "      <td>$134.09</td>\n",
       "      <td>Swipe Transaction</td>\n",
       "      <td>3527213246127876953</td>\n",
       "      <td>La Verne</td>\n",
       "      <td>CA</td>\n",
       "      <td>91750.0</td>\n",
       "      <td>5300</td>\n",
       "      <td>NaN</td>\n",
       "      <td>No</td>\n",
       "    </tr>\n",
       "    <tr>\n",
       "      <th>1</th>\n",
       "      <td>0</td>\n",
       "      <td>0</td>\n",
       "      <td>2002</td>\n",
       "      <td>9</td>\n",
       "      <td>1</td>\n",
       "      <td>06:42</td>\n",
       "      <td>$38.48</td>\n",
       "      <td>Swipe Transaction</td>\n",
       "      <td>-727612092139916043</td>\n",
       "      <td>Monterey Park</td>\n",
       "      <td>CA</td>\n",
       "      <td>91754.0</td>\n",
       "      <td>5411</td>\n",
       "      <td>NaN</td>\n",
       "      <td>No</td>\n",
       "    </tr>\n",
       "    <tr>\n",
       "      <th>2</th>\n",
       "      <td>0</td>\n",
       "      <td>0</td>\n",
       "      <td>2002</td>\n",
       "      <td>9</td>\n",
       "      <td>2</td>\n",
       "      <td>06:22</td>\n",
       "      <td>$120.34</td>\n",
       "      <td>Swipe Transaction</td>\n",
       "      <td>-727612092139916043</td>\n",
       "      <td>Monterey Park</td>\n",
       "      <td>CA</td>\n",
       "      <td>91754.0</td>\n",
       "      <td>5411</td>\n",
       "      <td>NaN</td>\n",
       "      <td>No</td>\n",
       "    </tr>\n",
       "    <tr>\n",
       "      <th>3</th>\n",
       "      <td>0</td>\n",
       "      <td>0</td>\n",
       "      <td>2002</td>\n",
       "      <td>9</td>\n",
       "      <td>2</td>\n",
       "      <td>17:45</td>\n",
       "      <td>$128.95</td>\n",
       "      <td>Swipe Transaction</td>\n",
       "      <td>3414527459579106770</td>\n",
       "      <td>Monterey Park</td>\n",
       "      <td>CA</td>\n",
       "      <td>91754.0</td>\n",
       "      <td>5651</td>\n",
       "      <td>NaN</td>\n",
       "      <td>No</td>\n",
       "    </tr>\n",
       "    <tr>\n",
       "      <th>4</th>\n",
       "      <td>0</td>\n",
       "      <td>0</td>\n",
       "      <td>2002</td>\n",
       "      <td>9</td>\n",
       "      <td>3</td>\n",
       "      <td>06:23</td>\n",
       "      <td>$104.71</td>\n",
       "      <td>Swipe Transaction</td>\n",
       "      <td>5817218446178736267</td>\n",
       "      <td>La Verne</td>\n",
       "      <td>CA</td>\n",
       "      <td>91750.0</td>\n",
       "      <td>5912</td>\n",
       "      <td>NaN</td>\n",
       "      <td>No</td>\n",
       "    </tr>\n",
       "  </tbody>\n",
       "</table>\n",
       "</div>"
      ],
      "text/plain": [
       "   User  Card  Year  Month  Day   Time   Amount           Use Chip  \\\n",
       "0     0     0  2002      9    1  06:21  $134.09  Swipe Transaction   \n",
       "1     0     0  2002      9    1  06:42   $38.48  Swipe Transaction   \n",
       "2     0     0  2002      9    2  06:22  $120.34  Swipe Transaction   \n",
       "3     0     0  2002      9    2  17:45  $128.95  Swipe Transaction   \n",
       "4     0     0  2002      9    3  06:23  $104.71  Swipe Transaction   \n",
       "\n",
       "         Merchant Name  Merchant City Merchant State      Zip   MCC Errors?  \\\n",
       "0  3527213246127876953       La Verne             CA  91750.0  5300     NaN   \n",
       "1  -727612092139916043  Monterey Park             CA  91754.0  5411     NaN   \n",
       "2  -727612092139916043  Monterey Park             CA  91754.0  5411     NaN   \n",
       "3  3414527459579106770  Monterey Park             CA  91754.0  5651     NaN   \n",
       "4  5817218446178736267       La Verne             CA  91750.0  5912     NaN   \n",
       "\n",
       "  Is Fraud?  \n",
       "0        No  \n",
       "1        No  \n",
       "2        No  \n",
       "3        No  \n",
       "4        No  "
      ]
     },
     "execution_count": 5,
     "metadata": {},
     "output_type": "execute_result"
    }
   ],
   "source": [
    "data = pd.read_csv(datafile)\n",
    "data.head()"
   ]
  },
  {
   "cell_type": "code",
   "execution_count": 6,
   "id": "7536b93f-6db1-4802-a9c0-7be7524970f7",
   "metadata": {},
   "outputs": [
    {
     "data": {
      "text/plain": [
       "0   2002-09-01 06:21:00\n",
       "1   2002-09-01 06:42:00\n",
       "2   2002-09-02 06:22:00\n",
       "3   2002-09-02 17:45:00\n",
       "4   2002-09-03 06:23:00\n",
       "dtype: datetime64[ns]"
      ]
     },
     "execution_count": 6,
     "metadata": {},
     "output_type": "execute_result"
    }
   ],
   "source": [
    "timestamps = get_timestamps(data[['Year', 'Month', 'Day', 'Time']])\n",
    "timestamps.head()"
   ]
  },
  {
   "cell_type": "code",
   "execution_count": 7,
   "id": "24f23828-71a8-4717-bc0d-c7762614dd6e",
   "metadata": {},
   "outputs": [],
   "source": [
    "# Add an hour column to our dataframe\n",
    "data['Hour'] = timestamps.dt.hour\n",
    "zero_time = pd.to_datetime(np.zeros(len(data)))\n",
    "total_seconds = (timestamps - zero_time).dt.total_seconds().astype(int)\n",
    "total_minutes = total_seconds//60\n",
    "# Add a column for total minutes from timestamp=0 to our datafrae\n",
    "data['total_minutes'] = total_minutes"
   ]
  },
  {
   "cell_type": "code",
   "execution_count": 14,
   "id": "4a54ad37-d88d-48c6-9edf-0c71b33b444f",
   "metadata": {},
   "outputs": [],
   "source": [
    "# Sort the data in transaction order\n",
    "sort_columns = ['User', 'Card', 'total_minutes'] if consider_card else ['User', 'total_minutes']\n",
    "sorted_data = data.sort_values(by=sort_columns)\n",
    "# if consider_card:\n",
    "#     new_data = data.sort_values(by=sort_columns)\n",
    "# else:\n",
    "#     new_data = data.sort_values(by=sort_columns)\n",
    "\n",
    "# Add a column numbering the transactions in order\n",
    "sorted_data['rownumber'] = np.arange(len(sorted_data))\n",
    "# Remove the dollar sign from the amount column and convert it to float\n",
    "sorted_data['Amount'] = sorted_data['Amount'].apply(lambda x: x[1:]).astype(float)\n",
    "# Note that amount values <= 1 are set to 1 before taking log\n",
    "sorted_data['Amount'] = sorted_data['Amount'].apply(lambda amt: max(1, amt)).apply(math.log)"
   ]
  },
  {
   "cell_type": "markdown",
   "id": "3372b9fc-1ed6-489f-925b-15d6461dd8ff",
   "metadata": {},
   "source": [
    "# Split train/test"
   ]
  },
  {
   "cell_type": "code",
   "execution_count": 18,
   "id": "b6fb73fd-c800-4835-9bc2-8e93c4d28c6f",
   "metadata": {},
   "outputs": [
    {
     "name": "stdout",
     "output_type": "stream",
     "text": [
      "Bin Percentage\n"
     ]
    },
    {
     "data": {
      "text/plain": [
       "1991    0.000065\n",
       "1992    0.000211\n",
       "1993    0.000344\n",
       "1994    0.000587\n",
       "1995    0.000858\n",
       "1996    0.001228\n",
       "1997    0.002040\n",
       "1998    0.003213\n",
       "1999    0.004849\n",
       "2000    0.007288\n",
       "2001    0.010579\n",
       "2002    0.014382\n",
       "2003    0.019125\n",
       "2004    0.024480\n",
       "2005    0.030617\n",
       "2006    0.037266\n",
       "2007    0.043650\n",
       "2008    0.050169\n",
       "2009    0.055580\n",
       "2010    0.061149\n",
       "2011    0.064401\n",
       "2012    0.066053\n",
       "2013    0.067697\n",
       "2014    0.068575\n",
       "2015    0.069766\n",
       "2016    0.070075\n",
       "2017    0.070667\n",
       "2018    0.070596\n",
       "2019    0.070691\n",
       "2020    0.013798\n",
       "Name: Year, dtype: float64"
      ]
     },
     "metadata": {},
     "output_type": "display_data"
    },
    {
     "name": "stdout",
     "output_type": "stream",
     "text": [
      "\n",
      "Cumulative Percentage\n"
     ]
    },
    {
     "data": {
      "text/plain": [
       "1991    0.000065\n",
       "1992    0.000276\n",
       "1993    0.000619\n",
       "1994    0.001206\n",
       "1995    0.002064\n",
       "1996    0.003292\n",
       "1997    0.005332\n",
       "1998    0.008545\n",
       "1999    0.013394\n",
       "2000    0.020682\n",
       "2001    0.031261\n",
       "2002    0.045643\n",
       "2003    0.064768\n",
       "2004    0.089249\n",
       "2005    0.119866\n",
       "2006    0.157131\n",
       "2007    0.200781\n",
       "2008    0.250950\n",
       "2009    0.306530\n",
       "2010    0.367679\n",
       "2011    0.432080\n",
       "2012    0.498134\n",
       "2013    0.565830\n",
       "2014    0.634406\n",
       "2015    0.704172\n",
       "2016    0.774247\n",
       "2017    0.844915\n",
       "2018    0.915510\n",
       "2019    0.986202\n",
       "2020    1.000000\n",
       "Name: Year, dtype: float64"
      ]
     },
     "metadata": {},
     "output_type": "display_data"
    }
   ],
   "source": [
    "print('Bin Percentage')\n",
    "display(sorted_data['Year'].value_counts().sort_index()/len(sorted_data['Year']))\n",
    "print('\\nCumulative Percentage')\n",
    "display(sorted_data['Year'].value_counts().sort_index().cumsum()/len(sorted_data['Year']))"
   ]
  },
  {
   "cell_type": "code",
   "execution_count": 24,
   "id": "3446f1d4",
   "metadata": {},
   "outputs": [
    {
     "data": {
      "image/png": "[encoded data removed]",
      "text/plain": [
       "<Figure size 640x480 with 1 Axes>"
      ]
     },
     "metadata": {},
     "output_type": "display_data"
    }
   ],
   "source": [
    "import matplotlib.pyplot as plt\n",
    "\n",
    "plt.hist(sorted_data['Year'], bins=len(sorted_data['Year'].unique()))\n",
    "plt.xlabel('Year')\n",
    "plt.ylabel('Frequency')\n",
    "plt.title('Histogram of Transactions by Year')\n",
    "plt.show()\n"
   ]
  },
  {
   "cell_type": "code",
   "execution_count": 82,
   "id": "f7ac4430-c219-4c97-a045-32bf82b25f3f",
   "metadata": {},
   "outputs": [],
   "source": [
    "train_data = sorted_data.loc[sorted_data['Year'] < train_test_thres_year]\n",
    "basic_test_data = sorted_data.loc[sorted_data['Year'] >= train_test_thres_year]"
   ]
  },
  {
   "cell_type": "code",
   "execution_count": 83,
   "id": "7df30bb6-552a-4f2f-aef4-0a4eca29480a",
   "metadata": {},
   "outputs": [],
   "source": [
    "train_user = set(train_data['User'].unique())\n",
    "test_user = set(basic_test_data['User'].unique())\n",
    "train_test_user = train_user.intersection(test_user)\n",
    "test_only_user = test_user.difference(train_user)"
   ]
  },
  {
   "cell_type": "code",
   "execution_count": 84,
   "id": "482d3bca-cdae-4423-8ebd-79098f1594c5",
   "metadata": {},
   "outputs": [],
   "source": [
    "groupby_columns = ['User', 'Card'] if consider_card else ['User']"
   ]
  },
  {
   "cell_type": "code",
   "execution_count": 91,
   "id": "38b8c124-5870-42b9-ba22-f25ce49ac579",
   "metadata": {},
   "outputs": [],
   "source": [
    "def get_index(x, seq_len):\n",
    "    return x.index[-(seq_len-1):]"
   ]
  },
  {
   "cell_type": "code",
   "execution_count": 86,
   "id": "bffa0b14-bbca-4604-a8a3-14fab2504733",
   "metadata": {
    "tags": []
   },
   "outputs": [],
   "source": [
    "test_extra_index = train_data.loc[train_data['User'].isin(train_test_user)].groupby(groupby_columns).apply(get_index, seq_len)\n",
    "test_extra_index = test_extra_index.explode()"
   ]
  },
  {
   "cell_type": "code",
   "execution_count": 88,
   "id": "60af74ad-7d11-4776-90d8-c7edde74cb12",
   "metadata": {},
   "outputs": [],
   "source": [
    "test_data = pd.concat([sorted_data.loc[test_extra_index], basic_test_data])"
   ]
  },
  {
   "cell_type": "code",
   "execution_count": 90,
   "id": "8c500f79-73f7-44c1-acb7-6c19e1995e02",
   "metadata": {},
   "outputs": [],
   "source": [
    "test_data.sort_values(by=sort_columns, inplace=True)"
   ]
  },
  {
   "cell_type": "code",
   "execution_count": 174,
   "id": "8b8f5d76-9619-4cf7-90c7-1fca63b9ae1b",
   "metadata": {},
   "outputs": [
    {
     "name": "stdout",
     "output_type": "stream",
     "text": [
      "False False False\n"
     ]
    }
   ],
   "source": [
    "print(train_data.duplicated().any(), test_data.duplicated().any())"
   ]
  },
  {
   "cell_type": "code",
   "execution_count": 184,
   "id": "3206eb18-32e6-43fc-b289-6cc7103642b3",
   "metadata": {},
   "outputs": [
    {
     "name": "stdout",
     "output_type": "stream",
     "text": [
      "Train size: (13798849, 17), val size: (1685991, 17), test size: (8929150, 17)\n"
     ]
    }
   ],
   "source": [
    "print(f'Train size: {train_data.shape}, test size: {test_data.shape}')"
   ]
  },
  {
   "cell_type": "markdown",
   "id": "d5db317f-1fad-4f8d-ad92-02de9fc1d71b",
   "metadata": {},
   "source": [
    "# Generate Static Fields\n",
    "\n",
    "For payment data (IBM synthetic):\n",
    "\n",
    "•\tAverage dollar amount of the user\n",
    "\n",
    "•\tstandard deviation dollar amount of the user\n",
    "\n",
    "•\tMost frequent MCC\n",
    "\n",
    "•\tMost frequent Use Chip"
   ]
  },
  {
   "cell_type": "code",
   "execution_count": 92,
   "id": "ac05bf39-917a-40fd-8b35-5a333571c073",
   "metadata": {},
   "outputs": [],
   "source": [
    "def get_top_item(x):\n",
    "    top_item = x.mode().iloc[0]\n",
    "    return top_item"
   ]
  },
  {
   "cell_type": "code",
   "execution_count": 143,
   "id": "14406bd8-e3d9-411e-92d4-b26c2e210350",
   "metadata": {},
   "outputs": [],
   "source": [
    "static_data = train_data.groupby(groupby_columns).agg(\n",
    "    avg_dollar_amt=('Amount', 'mean'),\n",
    "    std_dollar_amt=('Amount', 'std'),\n",
    "    top_mcc=('MCC', lambda x: get_top_item(x)),\n",
    "    top_chip=('Use Chip', lambda x: get_top_item(x)),\n",
    ")"
   ]
  },
  {
   "cell_type": "code",
   "execution_count": 144,
   "id": "7d5b8919-2f7d-46c7-ba8b-5b7665845e8f",
   "metadata": {},
   "outputs": [
    {
     "data": {
      "text/plain": [
       "avg_dollar_amt    False\n",
       "std_dollar_amt     True\n",
       "top_mcc           False\n",
       "top_chip          False\n",
       "dtype: bool"
      ]
     },
     "execution_count": 144,
     "metadata": {},
     "output_type": "execute_result"
    }
   ],
   "source": [
    "static_data.isnull().any()"
   ]
  },
  {
   "cell_type": "code",
   "execution_count": 146,
   "id": "a45b3398-3f69-4c15-bc49-ca6960fb61ac",
   "metadata": {},
   "outputs": [
    {
     "data": {
      "text/html": [
       "<div>\n",
       "<style scoped>\n",
       "    .dataframe tbody tr th:only-of-type {\n",
       "        vertical-align: middle;\n",
       "    }\n",
       "\n",
       "    .dataframe tbody tr th {\n",
       "        vertical-align: top;\n",
       "    }\n",
       "\n",
       "    .dataframe thead th {\n",
       "        text-align: right;\n",
       "    }\n",
       "</style>\n",
       "<table border=\"1\" class=\"dataframe\">\n",
       "  <thead>\n",
       "    <tr style=\"text-align: right;\">\n",
       "      <th></th>\n",
       "      <th>avg_dollar_amt</th>\n",
       "      <th>std_dollar_amt</th>\n",
       "      <th>top_mcc</th>\n",
       "      <th>top_chip</th>\n",
       "    </tr>\n",
       "    <tr>\n",
       "      <th>User</th>\n",
       "      <th></th>\n",
       "      <th></th>\n",
       "      <th></th>\n",
       "      <th></th>\n",
       "    </tr>\n",
       "  </thead>\n",
       "  <tbody>\n",
       "    <tr>\n",
       "      <th>1282</th>\n",
       "      <td>6.360681</td>\n",
       "      <td>NaN</td>\n",
       "      <td>3256</td>\n",
       "      <td>Swipe Transaction</td>\n",
       "    </tr>\n",
       "    <tr>\n",
       "      <th>1719</th>\n",
       "      <td>6.118119</td>\n",
       "      <td>NaN</td>\n",
       "      <td>3000</td>\n",
       "      <td>Swipe Transaction</td>\n",
       "    </tr>\n",
       "  </tbody>\n",
       "</table>\n",
       "</div>"
      ],
      "text/plain": [
       "      avg_dollar_amt  std_dollar_amt  top_mcc           top_chip\n",
       "User                                                            \n",
       "1282        6.360681             NaN     3256  Swipe Transaction\n",
       "1719        6.118119             NaN     3000  Swipe Transaction"
      ]
     },
     "execution_count": 146,
     "metadata": {},
     "output_type": "execute_result"
    }
   ],
   "source": [
    "static_data.loc[static_data['std_dollar_amt'].isnull()]"
   ]
  },
  {
   "cell_type": "code",
   "execution_count": 95,
   "id": "9f8cf0b6-89e0-4eb2-9736-3e63bc833393",
   "metadata": {},
   "outputs": [],
   "source": [
    "df_avg_dollar_amt = train_data['Amount'].mean()\n",
    "df_std_dollar_amt = train_data['Amount'].std()\n",
    "df_top_mcc = train_data['MCC'].mode().iloc[0]\n",
    "df_top_chip = train_data['Use Chip'].mode().iloc[0]"
   ]
  },
  {
   "cell_type": "code",
   "execution_count": 163,
   "id": "67e236a4-ddc5-46d0-bc3a-538abf13c38c",
   "metadata": {},
   "outputs": [],
   "source": [
    "df_values = {\"avg_dollar_amt\": df_avg_dollar_amt, \"std_dollar_amt\": df_std_dollar_amt, \n",
    "             \"top_mcc\": df_top_mcc, \"top_chip\": df_top_chip}\n",
    "\n",
    "static_data.fillna(value=df_values, inplace=True)"
   ]
  },
  {
   "cell_type": "code",
   "execution_count": 165,
   "id": "cd8a338c-a700-459b-bdf5-697fe6d2f3d8",
   "metadata": {},
   "outputs": [],
   "source": [
    "test_only_user_index = list(test_only_user)"
   ]
  },
  {
   "cell_type": "code",
   "execution_count": 167,
   "id": "4111c47b-8ee1-4fa8-9a00-a4d499504b62",
   "metadata": {},
   "outputs": [],
   "source": [
    "test_df_static_data = pd.DataFrame({'avg_dollar_amt':np.repeat(df_avg_dollar_amt, len(test_only_user)), \n",
    "                                   'std_dollar_amt':np.repeat(df_std_dollar_amt, len(test_only_user)),\n",
    "                                   'top_mcc':np.repeat(df_top_mcc, len(test_only_user)), \n",
    "                                   'top_chip':np.repeat(df_top_chip, len(test_only_user))}, index=test_only_user_index)"
   ]
  },
  {
   "cell_type": "code",
   "execution_count": 168,
   "id": "df48805e-d658-4aae-bb9d-3a5cc344dbb6",
   "metadata": {},
   "outputs": [],
   "source": [
    "test_static_data = pd.concat([static_data, test_df_static_data])"
   ]
  },
  {
   "cell_type": "code",
   "execution_count": 169,
   "id": "e0921af1-6921-4793-a5c0-4b6a64c731c0",
   "metadata": {},
   "outputs": [],
   "source": [
    "final_train_data = train_data.join(static_data, on='User')\n",
    "final_test_data = test_data.join(test_static_data, on='User')"
   ]
  },
  {
   "cell_type": "code",
   "execution_count": 177,
   "id": "26ffd9bb-7021-4291-bef1-48831bec3d97",
   "metadata": {},
   "outputs": [],
   "source": [
    "final_train_data.sort_values(by=sort_columns, inplace=True)\n",
    "final_test_data.sort_values(by=sort_columns, inplace=True)"
   ]
  },
  {
   "cell_type": "code",
   "execution_count": 182,
   "id": "d6d312b1-db31-48e6-bf12-795910654c4d",
   "metadata": {},
   "outputs": [
    {
     "name": "stdout",
     "output_type": "stream",
     "text": [
      "train nan\n",
      " User              False\n",
      "Card              False\n",
      "Year              False\n",
      "Month             False\n",
      "Day               False\n",
      "Time              False\n",
      "Amount            False\n",
      "Use Chip          False\n",
      "Merchant Name     False\n",
      "Merchant City     False\n",
      "Merchant State     True\n",
      "Zip                True\n",
      "MCC               False\n",
      "Errors?            True\n",
      "Is Fraud?         False\n",
      "total_seconds     False\n",
      "rownumber         False\n",
      "avg_dollar_amt    False\n",
      "std_dollar_amt    False\n",
      "top_mcc           False\n",
      "top_chip          False\n",
      "dtype: bool\n",
      "val nan\n",
      " User              False\n",
      "Card              False\n",
      "Year              False\n",
      "Month             False\n",
      "Day               False\n",
      "Time              False\n",
      "Amount            False\n",
      "Use Chip          False\n",
      "Merchant Name     False\n",
      "Merchant City     False\n",
      "Merchant State     True\n",
      "Zip                True\n",
      "MCC               False\n",
      "Errors?            True\n",
      "Is Fraud?         False\n",
      "total_seconds     False\n",
      "rownumber         False\n",
      "avg_dollar_amt    False\n",
      "std_dollar_amt    False\n",
      "top_mcc           False\n",
      "top_chip          False\n",
      "dtype: bool\n",
      "test nan\n",
      " User              False\n",
      "Card              False\n",
      "Year              False\n",
      "Month             False\n",
      "Day               False\n",
      "Time              False\n",
      "Amount            False\n",
      "Use Chip          False\n",
      "Merchant Name     False\n",
      "Merchant City     False\n",
      "Merchant State     True\n",
      "Zip                True\n",
      "MCC               False\n",
      "Errors?            True\n",
      "Is Fraud?         False\n",
      "total_seconds     False\n",
      "rownumber         False\n",
      "avg_dollar_amt    False\n",
      "std_dollar_amt    False\n",
      "top_mcc           False\n",
      "top_chip          False\n",
      "dtype: bool\n"
     ]
    }
   ],
   "source": [
    "print('train nan\\n', final_train_data.isnull().any())\n",
    "print('test nan\\n', final_test_data.isnull().any())"
   ]
  },
  {
   "cell_type": "code",
   "execution_count": 186,
   "id": "e88d9606-a005-41fc-ab4f-76ac80d24ea6",
   "metadata": {},
   "outputs": [
    {
     "name": "stdout",
     "output_type": "stream",
     "text": [
      "Final train size: (13798849, 21), val size: (1685991, 21), test size: (8929150, 21)\n"
     ]
    }
   ],
   "source": [
    "print(f'Final train size: {final_train_data.shape}, test size: {final_test_data.shape}')"
   ]
  },
  {
   "cell_type": "code",
   "execution_count": 28,
   "id": "448e8e85-6e53-4a1d-9e94-da6fedba90c7",
   "metadata": {},
   "outputs": [
    {
     "data": {
      "text/plain": [
       "Index(['User', 'Card', 'Year', 'Month', 'Day', 'Time', 'Amount', 'Use Chip',\n",
       "       'Merchant Name', 'Merchant City', 'Merchant State', 'Zip', 'MCC',\n",
       "       'Errors?', 'Is Fraud?', 'Hour', 'total_minutes'],\n",
       "      dtype='object')"
      ]
     },
     "execution_count": 28,
     "metadata": {},
     "output_type": "execute_result"
    }
   ],
   "source": [
    "print(final_train_data.columns)"
   ]
  },
  {
   "cell_type": "code",
   "execution_count": 178,
   "id": "badc3a26-2a5a-4b1d-8f27-8edd04ad3efe",
   "metadata": {},
   "outputs": [],
   "source": [
    "final_train_data.to_csv(train_path, index=False)\n",
    "final_test_data.to_csv(test_path, index=False)"
   ]
  }
 ],
 "metadata": {
  "kernelspec": {
   "display_name": "base",
   "language": "python",
   "name": "python3"
  },
  "language_info": {
   "codemirror_mode": {
    "name": "ipython",
    "version": 3
   },
   "file_extension": ".py",
   "mimetype": "text/x-python",
   "name": "python",
   "nbconvert_exporter": "python",
   "pygments_lexer": "ipython3",
   "version": "3.9.18"
  }
 },
 "nbformat": 4,
 "nbformat_minor": 5
}
