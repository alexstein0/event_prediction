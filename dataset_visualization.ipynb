{
 "cells": [
  {
   "cell_type": "markdown",
   "id": "4f688b48",
   "metadata": {},
   "source": [
    "# Visualize dataset"
   ]
  },
  {
   "cell_type": "code",
   "execution_count": 1,
   "id": "d72735ae",
   "metadata": {},
   "outputs": [
    {
     "name": "stderr",
     "output_type": "stream",
     "text": [
      "c:\\Users\\monte\\code\\event_prediction\\.venv_nb\\lib\\site-packages\\tqdm\\auto.py:21: TqdmWarning: IProgress not found. Please update jupyter and ipywidgets. See https://ipywidgets.readthedocs.io/en/stable/user_install.html\n",
      "  from .autonotebook import tqdm as notebook_tqdm\n"
     ]
    }
   ],
   "source": [
    "import matplotlib.pyplot as plt\n",
    "import pandas as pd\n",
    "from omegaconf import OmegaConf\n",
    "\n",
    "import event_prediction\n",
    "from event_prediction.data.data_utils import download_data_from_url, extract"
   ]
  },
  {
   "cell_type": "code",
   "execution_count": 2,
   "id": "943b2b6e",
   "metadata": {},
   "outputs": [
    {
     "name": "stderr",
     "output_type": "stream",
     "text": [
      "Downloading https://obj.umiacs.umd.edu/eventprediction/transactions_small.tgz: 100%|██████████| 15.2k/15.2k [00:00<00:00, 480kB/s]"
     ]
    },
    {
     "name": "stdout",
     "output_type": "stream",
     "text": [
      "Extracting...\n",
      "Creating dataframe...\n",
      "Total rows: 1000, total columns: 16\n"
     ]
    },
    {
     "name": "stderr",
     "output_type": "stream",
     "text": [
      "\n"
     ]
    },
    {
     "data": {
      "text/html": [
       "<div>\n",
       "<style scoped>\n",
       "    .dataframe tbody tr th:only-of-type {\n",
       "        vertical-align: middle;\n",
       "    }\n",
       "\n",
       "    .dataframe tbody tr th {\n",
       "        vertical-align: top;\n",
       "    }\n",
       "\n",
       "    .dataframe thead th {\n",
       "        text-align: right;\n",
       "    }\n",
       "</style>\n",
       "<table border=\"1\" class=\"dataframe\">\n",
       "  <thead>\n",
       "    <tr style=\"text-align: right;\">\n",
       "      <th></th>\n",
       "      <th>Unnamed: 0</th>\n",
       "      <th>User</th>\n",
       "      <th>Card</th>\n",
       "      <th>Year</th>\n",
       "      <th>Month</th>\n",
       "      <th>Day</th>\n",
       "      <th>Time</th>\n",
       "      <th>Amount</th>\n",
       "      <th>Use Chip</th>\n",
       "      <th>Merchant Name</th>\n",
       "      <th>Merchant City</th>\n",
       "      <th>Merchant State</th>\n",
       "      <th>Zip</th>\n",
       "      <th>MCC</th>\n",
       "      <th>Errors?</th>\n",
       "      <th>Is Fraud?</th>\n",
       "    </tr>\n",
       "  </thead>\n",
       "  <tbody>\n",
       "    <tr>\n",
       "      <th>0</th>\n",
       "      <td>0</td>\n",
       "      <td>0</td>\n",
       "      <td>0</td>\n",
       "      <td>2002</td>\n",
       "      <td>9</td>\n",
       "      <td>1</td>\n",
       "      <td>06:21</td>\n",
       "      <td>$134.09</td>\n",
       "      <td>Swipe Transaction</td>\n",
       "      <td>3527213246127876953</td>\n",
       "      <td>La Verne</td>\n",
       "      <td>CA</td>\n",
       "      <td>91750.0</td>\n",
       "      <td>5300</td>\n",
       "      <td>NaN</td>\n",
       "      <td>No</td>\n",
       "    </tr>\n",
       "    <tr>\n",
       "      <th>1</th>\n",
       "      <td>1</td>\n",
       "      <td>0</td>\n",
       "      <td>0</td>\n",
       "      <td>2002</td>\n",
       "      <td>9</td>\n",
       "      <td>1</td>\n",
       "      <td>06:42</td>\n",
       "      <td>$38.48</td>\n",
       "      <td>Swipe Transaction</td>\n",
       "      <td>-727612092139916043</td>\n",
       "      <td>Monterey Park</td>\n",
       "      <td>CA</td>\n",
       "      <td>91754.0</td>\n",
       "      <td>5411</td>\n",
       "      <td>NaN</td>\n",
       "      <td>No</td>\n",
       "    </tr>\n",
       "    <tr>\n",
       "      <th>2</th>\n",
       "      <td>2</td>\n",
       "      <td>0</td>\n",
       "      <td>0</td>\n",
       "      <td>2002</td>\n",
       "      <td>9</td>\n",
       "      <td>2</td>\n",
       "      <td>06:22</td>\n",
       "      <td>$120.34</td>\n",
       "      <td>Swipe Transaction</td>\n",
       "      <td>-727612092139916043</td>\n",
       "      <td>Monterey Park</td>\n",
       "      <td>CA</td>\n",
       "      <td>91754.0</td>\n",
       "      <td>5411</td>\n",
       "      <td>NaN</td>\n",
       "      <td>No</td>\n",
       "    </tr>\n",
       "    <tr>\n",
       "      <th>3</th>\n",
       "      <td>3</td>\n",
       "      <td>0</td>\n",
       "      <td>0</td>\n",
       "      <td>2002</td>\n",
       "      <td>9</td>\n",
       "      <td>2</td>\n",
       "      <td>17:45</td>\n",
       "      <td>$128.95</td>\n",
       "      <td>Swipe Transaction</td>\n",
       "      <td>3414527459579106770</td>\n",
       "      <td>Monterey Park</td>\n",
       "      <td>CA</td>\n",
       "      <td>91754.0</td>\n",
       "      <td>5651</td>\n",
       "      <td>NaN</td>\n",
       "      <td>No</td>\n",
       "    </tr>\n",
       "    <tr>\n",
       "      <th>4</th>\n",
       "      <td>4</td>\n",
       "      <td>0</td>\n",
       "      <td>0</td>\n",
       "      <td>2002</td>\n",
       "      <td>9</td>\n",
       "      <td>3</td>\n",
       "      <td>06:23</td>\n",
       "      <td>$104.71</td>\n",
       "      <td>Swipe Transaction</td>\n",
       "      <td>5817218446178736267</td>\n",
       "      <td>La Verne</td>\n",
       "      <td>CA</td>\n",
       "      <td>91750.0</td>\n",
       "      <td>5912</td>\n",
       "      <td>NaN</td>\n",
       "      <td>No</td>\n",
       "    </tr>\n",
       "  </tbody>\n",
       "</table>\n",
       "</div>"
      ],
      "text/plain": [
       "   Unnamed: 0  User  Card  Year  Month  Day   Time   Amount  \\\n",
       "0           0     0     0  2002      9    1  06:21  $134.09   \n",
       "1           1     0     0  2002      9    1  06:42   $38.48   \n",
       "2           2     0     0  2002      9    2  06:22  $120.34   \n",
       "3           3     0     0  2002      9    2  17:45  $128.95   \n",
       "4           4     0     0  2002      9    3  06:23  $104.71   \n",
       "\n",
       "            Use Chip        Merchant Name  Merchant City Merchant State  \\\n",
       "0  Swipe Transaction  3527213246127876953       La Verne             CA   \n",
       "1  Swipe Transaction  -727612092139916043  Monterey Park             CA   \n",
       "2  Swipe Transaction  -727612092139916043  Monterey Park             CA   \n",
       "3  Swipe Transaction  3414527459579106770  Monterey Park             CA   \n",
       "4  Swipe Transaction  5817218446178736267       La Verne             CA   \n",
       "\n",
       "       Zip   MCC Errors? Is Fraud?  \n",
       "0  91750.0  5300     NaN        No  \n",
       "1  91754.0  5411     NaN        No  \n",
       "2  91754.0  5411     NaN        No  \n",
       "3  91754.0  5651     NaN        No  \n",
       "4  91750.0  5912     NaN        No  "
      ]
     },
     "execution_count": 2,
     "metadata": {},
     "output_type": "execute_result"
    }
   ],
   "source": [
    "\n",
    "url = \"https://obj.umiacs.umd.edu/eventprediction/transactions_small.tgz\"  # 1k transactions\n",
    "# url = \"https://obj.umiacs.umd.edu/eventprediction/transactions_med.tgz\"  # 1m transactions\n",
    "# url = \"https://obj.umiacs.umd.edu/eventprediction/transactions.tgz\"  # 25m transactions\n",
    "data = download_data_from_url(url)\n",
    "print(\"Extracting...\")\n",
    "data = extract(data)\n",
    "print(\"Creating dataframe...\")\n",
    "df = pd.read_csv(data)\n",
    "\n",
    "print(f\"Total rows: {df.shape[0]}, total columns: {df.shape[1]}\")\n",
    "df.head()"
   ]
  },
  {
   "cell_type": "code",
   "execution_count": 10,
   "id": "380218e9",
   "metadata": {},
   "outputs": [
    {
     "data": {
      "image/png": "[encoded data removed]",
      "text/plain": [
       "<Figure size 640x480 with 1 Axes>"
      ]
     },
     "metadata": {},
     "output_type": "display_data"
    }
   ],
   "source": [
    "plt.hist(df['Year'], bins=len(df['Year'].unique()))\n",
    "plt.title('Histogram of Transactions by Year')\n",
    "plt.show()"
   ]
  },
  {
   "cell_type": "code",
   "execution_count": 3,
   "id": "3cb9d255",
   "metadata": {},
   "outputs": [],
   "source": [
    "cfg_dir = \"event_prediction/config\"\n",
    "cfg = OmegaConf.load(f\"{cfg_dir}/pre_process_data.yaml\")\n",
    "data_cfg = OmegaConf.load(f\"{cfg_dir}/data/ibm_fraud_transaction_small.yaml\")\n",
    "token_cfg = OmegaConf.load(f\"{cfg_dir}/tokenizer/composite.yaml\")\n",
    "\n",
    "tokenizer = event_prediction.get_tokenizer(token_cfg, data_cfg)"
   ]
  },
  {
   "cell_type": "code",
   "execution_count": 4,
   "id": "ba316529",
   "metadata": {},
   "outputs": [
    {
     "data": {
      "text/html": [
       "<div>\n",
       "<style scoped>\n",
       "    .dataframe tbody tr th:only-of-type {\n",
       "        vertical-align: middle;\n",
       "    }\n",
       "\n",
       "    .dataframe tbody tr th {\n",
       "        vertical-align: top;\n",
       "    }\n",
       "\n",
       "    .dataframe thead th {\n",
       "        text-align: right;\n",
       "    }\n",
       "</style>\n",
       "<table border=\"1\" class=\"dataframe\">\n",
       "  <thead>\n",
       "    <tr style=\"text-align: right;\">\n",
       "      <th></th>\n",
       "      <th>User</th>\n",
       "      <th>Card</th>\n",
       "      <th>Use Chip</th>\n",
       "      <th>Merchant State</th>\n",
       "      <th>MCC</th>\n",
       "      <th>Errors?</th>\n",
       "      <th>top_mcc</th>\n",
       "      <th>top_chip</th>\n",
       "      <th>Amount</th>\n",
       "      <th>Hour</th>\n",
       "      <th>total_minutes_from_last</th>\n",
       "      <th>Is Fraud?</th>\n",
       "      <th>is_online</th>\n",
       "      <th>avg_dollar_amt</th>\n",
       "      <th>std_dollar_amt</th>\n",
       "    </tr>\n",
       "  </thead>\n",
       "  <tbody>\n",
       "    <tr>\n",
       "      <th>0</th>\n",
       "      <td>0</td>\n",
       "      <td>0</td>\n",
       "      <td>SwipeTransaction</td>\n",
       "      <td>CA</td>\n",
       "      <td>5300</td>\n",
       "      <td>&lt;NA&gt;</td>\n",
       "      <td>5411</td>\n",
       "      <td>SwipeTransaction</td>\n",
       "      <td>8</td>\n",
       "      <td>0</td>\n",
       "      <td>0</td>\n",
       "      <td>True</td>\n",
       "      <td>False</td>\n",
       "      <td>5</td>\n",
       "      <td>5</td>\n",
       "    </tr>\n",
       "    <tr>\n",
       "      <th>1</th>\n",
       "      <td>0</td>\n",
       "      <td>0</td>\n",
       "      <td>SwipeTransaction</td>\n",
       "      <td>CA</td>\n",
       "      <td>5411</td>\n",
       "      <td>&lt;NA&gt;</td>\n",
       "      <td>5411</td>\n",
       "      <td>SwipeTransaction</td>\n",
       "      <td>2</td>\n",
       "      <td>0</td>\n",
       "      <td>1</td>\n",
       "      <td>True</td>\n",
       "      <td>False</td>\n",
       "      <td>5</td>\n",
       "      <td>5</td>\n",
       "    </tr>\n",
       "    <tr>\n",
       "      <th>2</th>\n",
       "      <td>0</td>\n",
       "      <td>0</td>\n",
       "      <td>SwipeTransaction</td>\n",
       "      <td>CA</td>\n",
       "      <td>5411</td>\n",
       "      <td>&lt;NA&gt;</td>\n",
       "      <td>5411</td>\n",
       "      <td>SwipeTransaction</td>\n",
       "      <td>7</td>\n",
       "      <td>0</td>\n",
       "      <td>7</td>\n",
       "      <td>True</td>\n",
       "      <td>False</td>\n",
       "      <td>5</td>\n",
       "      <td>5</td>\n",
       "    </tr>\n",
       "    <tr>\n",
       "      <th>3</th>\n",
       "      <td>0</td>\n",
       "      <td>0</td>\n",
       "      <td>SwipeTransaction</td>\n",
       "      <td>CA</td>\n",
       "      <td>5651</td>\n",
       "      <td>&lt;NA&gt;</td>\n",
       "      <td>5411</td>\n",
       "      <td>SwipeTransaction</td>\n",
       "      <td>8</td>\n",
       "      <td>5</td>\n",
       "      <td>5</td>\n",
       "      <td>True</td>\n",
       "      <td>False</td>\n",
       "      <td>5</td>\n",
       "      <td>5</td>\n",
       "    </tr>\n",
       "    <tr>\n",
       "      <th>4</th>\n",
       "      <td>0</td>\n",
       "      <td>0</td>\n",
       "      <td>SwipeTransaction</td>\n",
       "      <td>CA</td>\n",
       "      <td>5912</td>\n",
       "      <td>&lt;NA&gt;</td>\n",
       "      <td>5411</td>\n",
       "      <td>SwipeTransaction</td>\n",
       "      <td>7</td>\n",
       "      <td>0</td>\n",
       "      <td>5</td>\n",
       "      <td>True</td>\n",
       "      <td>False</td>\n",
       "      <td>5</td>\n",
       "      <td>5</td>\n",
       "    </tr>\n",
       "  </tbody>\n",
       "</table>\n",
       "</div>"
      ],
      "text/plain": [
       "   User  Card          Use Chip Merchant State   MCC Errors? top_mcc  \\\n",
       "0     0     0  SwipeTransaction             CA  5300    <NA>    5411   \n",
       "1     0     0  SwipeTransaction             CA  5411    <NA>    5411   \n",
       "2     0     0  SwipeTransaction             CA  5411    <NA>    5411   \n",
       "3     0     0  SwipeTransaction             CA  5651    <NA>    5411   \n",
       "4     0     0  SwipeTransaction             CA  5912    <NA>    5411   \n",
       "\n",
       "           top_chip Amount Hour total_minutes_from_last  Is Fraud?  is_online  \\\n",
       "0  SwipeTransaction      8    0                       0       True      False   \n",
       "1  SwipeTransaction      2    0                       1       True      False   \n",
       "2  SwipeTransaction      7    0                       7       True      False   \n",
       "3  SwipeTransaction      8    5                       5       True      False   \n",
       "4  SwipeTransaction      7    0                       5       True      False   \n",
       "\n",
       "  avg_dollar_amt std_dollar_amt  \n",
       "0              5              5  \n",
       "1              5              5  \n",
       "2              5              5  \n",
       "3              5              5  \n",
       "4              5              5  "
      ]
     },
     "execution_count": 4,
     "metadata": {},
     "output_type": "execute_result"
    }
   ],
   "source": [
    "\n",
    "normed_data = tokenizer.normalize(df)\n",
    "normed_data.head()"
   ]
  },
  {
   "cell_type": "code",
   "execution_count": 5,
   "id": "002f1f23",
   "metadata": {},
   "outputs": [
    {
     "data": {
      "text/plain": [
       "0    SwipeTransaction_CA_5300_<NA>_5411_SwipeTransa...\n",
       "1    SwipeTransaction_CA_5411_<NA>_5411_SwipeTransa...\n",
       "2    SwipeTransaction_CA_5411_<NA>_5411_SwipeTransa...\n",
       "3    SwipeTransaction_CA_5651_<NA>_5411_SwipeTransa...\n",
       "4    SwipeTransaction_CA_5912_<NA>_5411_SwipeTransa...\n",
       "dtype: object"
      ]
     },
     "execution_count": 5,
     "metadata": {},
     "output_type": "execute_result"
    }
   ],
   "source": [
    "wordified_data, labels = tokenizer.pretokenize(normed_data)\n",
    "wordified_data.head()"
   ]
  },
  {
   "cell_type": "code",
   "execution_count": 6,
   "id": "84638659",
   "metadata": {},
   "outputs": [
    {
     "data": {
      "text/plain": [
       "0    SwipeTransaction_CA_5300_<NA>_5411_SwipeTransa...\n",
       "1    SwipeTransaction_CA_5411_<NA>_5411_SwipeTransa...\n",
       "2    SwipeTransaction_CA_5411_<NA>_5411_SwipeTransa...\n",
       "3    SwipeTransaction_CA_5651_<NA>_5411_SwipeTransa...\n",
       "4    SwipeTransaction_CA_5912_<NA>_5411_SwipeTransa...\n",
       "dtype: object"
      ]
     },
     "execution_count": 6,
     "metadata": {},
     "output_type": "execute_result"
    }
   ],
   "source": [
    "tokenized_data = tokenizer.model(wordified_data)\n",
    "tokenized_data.head()"
   ]
  },
  {
   "cell_type": "code",
   "execution_count": 7,
   "id": "b64e1f93",
   "metadata": {},
   "outputs": [
    {
     "data": {
      "text/plain": [
       "['User',\n",
       " 'Card',\n",
       " 'SwipeTransaction_CA_5300_<NA>_5411_SwipeTransaction_8_0_0_True_False_5_5',\n",
       " 'SwipeTransaction_CA_5411_<NA>_5411_SwipeTransaction_2_0_1_True_False_5_5',\n",
       " 'SwipeTransaction_CA_5411_<NA>_5411_SwipeTransaction_7_0_7_True_False_5_5']"
      ]
     },
     "execution_count": 7,
     "metadata": {},
     "output_type": "execute_result"
    }
   ],
   "source": [
    "post_processed_data = tokenizer.post_process(tokenized_data, labels)\n",
    "post_processed_data[:5]"
   ]
  },
  {
   "cell_type": "code",
   "execution_count": 14,
   "id": "c7d5ec67",
   "metadata": {},
   "outputs": [],
   "source": [
    "# Optionally save a subset of the dataset if you wish.\n",
    "\n",
    "# subset_size = 1e6\n",
    "# df.head(int(subset_size)).to_csv('temp.csv', index=False)\n",
    "# with tarfile.open('transactions_med.tgz', 'w:gz') as f:\n",
    "#     f.add('temp.csv')"
   ]
  }
 ],
 "metadata": {
  "kernelspec": {
   "display_name": "base",
   "language": "python",
   "name": "python3"
  },
  "language_info": {
   "codemirror_mode": {
    "name": "ipython",
    "version": 3
   },
   "file_extension": ".py",
   "mimetype": "text/x-python",
   "name": "python",
   "nbconvert_exporter": "python",
   "pygments_lexer": "ipython3",
   "version": "3.9.18"
  }
 },
 "nbformat": 4,
 "nbformat_minor": 5
}
